{
 "cells": [
  {
   "cell_type": "markdown",
   "id": "175ca301-21c7-4d88-a87f-1f14213547c7",
   "metadata": {},
   "source": [
    "# C++\n",
    "\n",
    "Source: learncpp.com"
   ]
  },
  {
   "cell_type": "markdown",
   "id": "1b5c5cea-6056-40cb-a965-f05543364270",
   "metadata": {
    "tags": []
   },
   "source": [
    "## Chapter 0: Introduction"
   ]
  },
  {
   "cell_type": "markdown",
   "id": "d91c824c-fa29-487a-97f6-ff5c5b3a1585",
   "metadata": {},
   "source": [
    "### **0.1 Goals**\n",
    "\n",
    "1. Covering programming topics as well as C++. \n",
    "2. Provide a lot of examples\n",
    "3. Provide practice programs\n",
    "4. Have fun!"
   ]
  },
  {
   "cell_type": "markdown",
   "id": "08b08823-3c5f-439b-8a57-73a63940363e",
   "metadata": {},
   "source": [
    "### **0.2 Introduction to Programming Languages**\n",
    "\n",
    "A computer program is a set of instructuions that the computer can perform in order to perform some task. \n",
    "\n",
    "Programmers typically create programs by producing source code, which is a list of commands typed into one or more text files. \n",
    "\n",
    "When a computer program is loaded into memory and the hardware sequentially executes each instruction, this is called running or executing the program.\n",
    "\n",
    "**High-level Languages**\n",
    "To address readability and portability issues posed by machine language, new programming languages like C, C++ were developed. Much like assembly programs, code written in high level languages must be translated into a format the computer can understand before they can be run. There are two primary ways this is done: compiling and interpreting. \n",
    "\n",
    "A **compiler** is a program that reads source code and produces a stand-alone executable program that can be run. Once your code has been turned into an executable, you do not need the compiler to run the program. \n",
    "\n",
    "An **interpreter** is a program that directly executes the instructions in the source code without requiring them to be compiled into an executable first. Interpreters tend to be more flexible than compilers, but are less efficient when running programs becuase the interpreting process needs to be done every time the program is run.\n",
    "\n",
    "**Rules, Best Practices and Warnings**\n",
    "\n",
    "Rules: are instructions you must do, as required by the language\n",
    "\n",
    "Best practice: are things you should do, because that of doing things is generally considered a standard practice.\n",
    "\n",
    "Warnings: are things you should not do, because they will generally lead to unexpected results"
   ]
  },
  {
   "cell_type": "markdown",
   "id": "a17f4257-7c39-4123-b26b-2b83be4150d7",
   "metadata": {},
   "source": [
    "### **0.3 Introduction to C++**\n",
    "\n",
    "C++ was developed by Bjarne Stroustrup at Bell Labs as an extension to C, starting in 1979. C++'s claim to fame results primarily from the fact that it is an object-oriented language.\n",
    "\n",
    "C++ was standardized in 1998 by the ISO committe. Four major updated to the C++ language (C++11, C++14, C++17, and C++20) have been made since then, each adding additional functionality. C++11 in particular added huge number of new capabilities, and is widely considered to be the new baseline version of the language. \n",
    "\n",
    "Each new formal release of the language is called a language standard (or language specification).\n",
    "\n",
    "**C++ Philosophy**\n",
    "\n",
    "The underlying design philosophy of C++ is \"trust the programmer\" -- which is both wonderful and dangerous. \n",
    "\n",
    "**C++ Applications**\n",
    "\n",
    "C++ excels in situations where high performance and precise control over memory and other resources is needed. Few common types of applications of C++ are:\n",
    "\n",
    "- Video Games\n",
    "- Real-time systems\n",
    "- High performance financial applications\n",
    "- GUI and Simulations\n",
    "- Productivity / office applications\n",
    "- Embedded Software\n",
    "- Audio and video processing\n",
    "- Artificial Intelligence and neural networks"
   ]
  },
  {
   "cell_type": "markdown",
   "id": "95aa1733-450a-4876-bec4-5860383a9ec0",
   "metadata": {},
   "source": [
    "### **0.4 C++ Development**\n",
    "\n",
    "Following are the steps in which C++ programs are developed\n",
    "\n",
    "STEP 1: DEFINE PROBLEM TO SOLVE\n",
    "\n",
    "STEP 2: DESIGN A SOLUTION\n",
    "\n",
    "STEP 3: WRITE PROGRAM AND IMPLEMENT SOLUTION\n",
    "\n",
    "STEP 4: COMPILE THE PROGRAM\n",
    "\n",
    "STEP 5: LINK OBJECT FILES\n",
    "\n",
    "STEP 6: TEST PROGRAM\n",
    "\n",
    "STEP 7: DEBUG, GO TO STEP 4\n",
    "\n",
    "Too often, a programmer will get an idea, sit down, and immediately start coding a solution. This often generates a solution that falls into the bad category. \n",
    "\n",
    "Typically, good solutions have the following characteristics:\n",
    "\n",
    "- Straightforward\n",
    "- Well Documented\n",
    "- Build modularly\n",
    "- Robust\n",
    "\n",
    "**First Program**"
   ]
  },
  {
   "cell_type": "markdown",
   "id": "a4f05cde",
   "metadata": {},
   "source": [
    "<code>#include <iostream>\n",
    "using namespace std;\n",
    "int main()\n",
    "{\n",
    "    cout << \"Hello world!\" << endl;\n",
    "    return 0;\n",
    "}"
   ]
  },
  {
   "cell_type": "markdown",
   "id": "d070143d",
   "metadata": {},
   "source": [
    "### 0.5 Build Configurations\n",
    "\n",
    "A build configuration is a collection of project settings that determines how your IDE will build your project. The build configuration typically includes things like what the executable will be named, what directories the IDE will look in for other code and library files, whether to keep or strip out debugging information, how much to have the compiler optimize your program, etc.\n",
    "\n",
    "The debug configuration is designed to help you debug your program and is generally the one you will use when writing your programs. This configuration turns of all optimizations, and includes debugging information, which makes your programs larger and slower, but much easier to debug. The debug configuration is usually selected as the active configuration by default. \n",
    "\n",
    "The release configuration is designed to be used when releasing your program to the public. The version is typically optimized for size and performance, and doesn't contain the extra debugging information. "
   ]
  },
  {
   "cell_type": "markdown",
   "id": "1c51cda8",
   "metadata": {},
   "source": [
    "### Compiler Extensions\n",
    "\n",
    "The C++ standard defines rules about how programs should behave in specific circumstances. And in most cases, compilers will follow these rules. However, many compilers implement their own changes to the language, often to enhance compatibility with other versions of the language, or for historical reasons. These compiler-specific behaviors are called compiler extensions."
   ]
  },
  {
   "cell_type": "markdown",
   "id": "a393f486",
   "metadata": {},
   "source": [
    "## Chapter 1: Basics\n",
    "\n",
    "### 1.1 Objects and Variables\n",
    "\n",
    "In C++, direct memory access is not allowed. Instead, we access memory indirectly through an object. An object is a region of storage that has a value and other associated properties. Named objects are called **variables**.\n",
    "\n",
    "### 1.2 Initialization\n",
    "\n",
    "There are 4 basic ways to initialize variables in C++:"
   ]
  },
  {
   "cell_type": "markdown",
   "id": "d03b55d4",
   "metadata": {},
   "source": [
    "```\n",
    "int a;\n",
    "int b = 1; // copy initialization\n",
    "int c(2); // direct initialization\n",
    "int d{3}; // brace initialization```"
   ]
  },
  {
   "cell_type": "markdown",
   "id": "ca57cf5b",
   "metadata": {},
   "source": [
    "### 1.3 iostream\n",
    "\n",
    "**std::endl vs '\\n'**: Using ```std::endl``` can be a bit inefficient, as it actually does two jobs: it moves the cursor to the next line, and it makes sure that the output shows up on the screen immediately (**flushing**). When writing text to the console using cout, cout often flushes the output anyway, so having std::endl perform a flush is rarely important.\n",
    "\n",
    "The \\n character moves the cursor to the next line but doesn't request a flush, so it will perform better in cases where a flush would not otherwise happen. "
   ]
  },
  {
   "cell_type": "markdown",
   "id": "770545d8",
   "metadata": {},
   "source": [
    "### 1.4 Identifier naming rules\n",
    "\n",
    "- The identifier cannot be a keyword. Keywords are reserved\n",
    "- The identifier can only be composed of letters(lowercase or uppercase), numbers, and the underscore character.\n",
    "- The identifier must begin with a letter or an underscore. It cannot start with a number\n",
    "- C++ is case sensitive\n",
    "\n",
    "**Identifier naming best practices**\n",
    "\n",
    "- It is a convention that C++ variables should start with a lowercase letter.\n",
    "- Function names are also started with lowercase letters\n",
    "- Identifier names that start with a capital letter are typically used for user-defined types (structs, classes, and enumerations)\n"
   ]
  },
  {
   "cell_type": "markdown",
   "id": "bf6b35ff",
   "metadata": {},
   "source": [
    "### Whitespace\n",
    "\n",
    "Whitespace is a term that refers to characters that are used for formatting purposes. In C++, this refers primarily to spaces, tabs, and newlines. The C++ compiler generally ignores whitespaces, with a few minor exceptions (when processing literals)"
   ]
  }
 ],
 "metadata": {
  "kernelspec": {
   "display_name": "Python 3 (ipykernel)",
   "language": "python",
   "name": "python3"
  },
  "language_info": {
   "codemirror_mode": {
    "name": "ipython",
    "version": 3
   },
   "file_extension": ".py",
   "mimetype": "text/x-python",
   "name": "python",
   "nbconvert_exporter": "python",
   "pygments_lexer": "ipython3",
   "version": "3.10.0"
  }
 },
 "nbformat": 4,
 "nbformat_minor": 5
}
