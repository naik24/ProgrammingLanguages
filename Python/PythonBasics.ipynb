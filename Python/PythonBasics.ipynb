{
 "cells": [
  {
   "cell_type": "markdown",
   "id": "dc57e448-4c37-4902-82e3-f28eab4ca081",
   "metadata": {
    "tags": []
   },
   "source": [
    "# Python Basics"
   ]
  },
  {
   "cell_type": "markdown",
   "id": "bcf123e4-02e0-41ff-985f-24fdfff973c9",
   "metadata": {},
   "source": [
    "## 1. Hello World"
   ]
  },
  {
   "cell_type": "code",
   "execution_count": 1,
   "id": "a5ddd715-de64-45b6-98c8-a17ad91bca78",
   "metadata": {},
   "outputs": [
    {
     "name": "stdout",
     "output_type": "stream",
     "text": [
      "Hello, World!\n"
     ]
    }
   ],
   "source": [
    "print(\"Hello, World!\") "
   ]
  },
  {
   "cell_type": "markdown",
   "id": "3f387cf2-c926-4204-a00c-dde43c5d24ea",
   "metadata": {},
   "source": [
    "## 2. Numbers"
   ]
  },
  {
   "cell_type": "code",
   "execution_count": 3,
   "id": "af6b1d2c-9406-4fcd-ac43-52f23f01765d",
   "metadata": {},
   "outputs": [
    {
     "name": "stdin",
     "output_type": "stream",
     "text": [
      "Num1:  10\n",
      "Num2:  20\n"
     ]
    },
    {
     "name": "stdout",
     "output_type": "stream",
     "text": [
      "\n",
      "Addition:  30\n",
      "Subtraction: -10\n",
      "Division: 0.5\n",
      "Floor Division: 0\n",
      "Multiplication: 200\n",
      "Power : 100000000000000000000\n"
     ]
    }
   ],
   "source": [
    "# Simple Calculator\n",
    "\n",
    "\"\"\"\n",
    "Ask for 2 numbers as input from user and perform addition, subtraction, division, and\n",
    "multiplication\n",
    "\"\"\"\n",
    "\n",
    "# User Input\n",
    "num1 = int(input(\"Num1: \"))\n",
    "num2 = int(input(\"Num2: \"))\n",
    "\n",
    "# Addition\n",
    "addNum = num1 + num2\n",
    "print(\"\\nAddition: \", addNum)\n",
    "\n",
    "# Subtraction\n",
    "subNum = num1 - num2\n",
    "print(\"Subtraction:\", subNum)\n",
    "\n",
    "# Division\n",
    "divNum = num1 / num2\n",
    "print(\"Division:\", divNum)\n",
    "\n",
    "# Floor Division\n",
    "divFloorNum = num1 // num2\n",
    "print(\"Floor Division:\", divFloorNum)\n",
    "\n",
    "# Multiplication\n",
    "mulNum = num1 * num2\n",
    "print(\"Multiplication:\", mulNum)\n",
    "\n",
    "# Power\n",
    "powNum = num1 ** num2\n",
    "print(\"Power :\", powNum)\n"
   ]
  },
  {
   "cell_type": "markdown",
   "id": "9133c5d3-8609-44e6-ab68-5fd516fd8b7a",
   "metadata": {},
   "source": [
    "## 3. Strings"
   ]
  },
  {
   "cell_type": "code",
   "execution_count": 4,
   "id": "d1d43b7d-ad04-41ac-9c9f-73d0d7113f27",
   "metadata": {},
   "outputs": [
    {
     "name": "stdin",
     "output_type": "stream",
     "text": [
      "What is your name?  Prasad\n",
      "How old are you?  22\n"
     ]
    },
    {
     "name": "stdout",
     "output_type": "stream",
     "text": [
      "New Profile...\n",
      "\n",
      "ID\tName\tAge\n",
      "\n",
      "01\tPrasad\t22\n",
      "\n",
      "Location of new profile is C:\\newprofile\\id01\n",
      "\n",
      "Prasad Naik is an aspiring Computer Vision researcher from India.\n",
      "P\n",
      "r\n",
      "a\n",
      "s\n",
      "a\n",
      "d\n"
     ]
    }
   ],
   "source": [
    "# String input from user\n",
    "name = input(\"What is your name? \")\n",
    "age = input(\"How old are you? \")\n",
    "\n",
    "# Using escape characters\n",
    "print(\"New Profile...\\n\")\n",
    "print(\"ID\\tName\\tAge\\n\")\n",
    "print('01\\t'+name+\"\\t\"+age+\"\\n\")\n",
    "\n",
    "# To avoid interpretation of '\\' as a special character, we use raw strings\n",
    "print(r'Location of new profile is C:\\newprofile\\id01')\n",
    "\n",
    "# You can break long strings into smaller ones in Python\n",
    "print('\\nPrasad Naik is an aspiring '\n",
    "      'Computer Vision researcher from India.')\n",
    "\n",
    "# Indexing of Strings\n",
    "for i in range(len(name)):\n",
    "    print(name[i])\n"
   ]
  },
  {
   "cell_type": "markdown",
   "id": "cfc20255-ff2b-4f34-8102-1f7ac77fddce",
   "metadata": {},
   "source": [
    "## 4. Lists"
   ]
  },
  {
   "cell_type": "code",
   "execution_count": 5,
   "id": "745294f5-e891-42ad-b10e-7ad709a133aa",
   "metadata": {},
   "outputs": [
    {
     "name": "stdout",
     "output_type": "stream",
     "text": [
      "1\n",
      "4\n",
      "9\n",
      "16\n",
      "25\n",
      "25\n",
      "[1, 4, 9]\n",
      "[1, 4, 9, 16, 25, 36, 49, 64, 81, 100]\n"
     ]
    }
   ],
   "source": [
    "squares = [1, 4, 9, 16, 25]\n",
    "\n",
    "# Indexing Lists\n",
    "for i in range(len(squares)):\n",
    "    print(squares[i])\n",
    "\n",
    "\"\"\"\n",
    "The last element of a list is also indexed as -1, \n",
    "the second last element as -2, and so on.\n",
    "\"\"\"\n",
    "print(squares[-1])\n",
    "\n",
    "# Splicing Lists\n",
    "print(squares[0:3])\n",
    "\n",
    "# Concatenating Lists\n",
    "print(squares + [36, 49, 64, 81, 100])"
   ]
  },
  {
   "cell_type": "markdown",
   "id": "a6584453-dcec-4e5a-b33a-d6b5602872f0",
   "metadata": {},
   "source": [
    "## 5. If-Else"
   ]
  },
  {
   "cell_type": "code",
   "execution_count": 6,
   "id": "46042492-9675-410b-8bd4-26c8ba9458dd",
   "metadata": {},
   "outputs": [
    {
     "name": "stdin",
     "output_type": "stream",
     "text": [
      "Enter your total marks (out of 100):  96\n"
     ]
    },
    {
     "name": "stdout",
     "output_type": "stream",
     "text": [
      "FIRST CLASS WITH DISTINCTION\n"
     ]
    }
   ],
   "source": [
    "total_marks = int(input(\"Enter your total marks (out of 100): \"))\n",
    "\n",
    "if total_marks < 35:\n",
    "    print(\"FAIL\")\n",
    "elif total_marks > 35 and total_marks < 70:\n",
    "    print(\"PASS\")\n",
    "elif total_marks > 70 and total_marks < 75:\n",
    "    print(\"FIRST CLASS\")\n",
    "else:\n",
    "    print(\"FIRST CLASS WITH DISTINCTION\")"
   ]
  },
  {
   "cell_type": "markdown",
   "id": "a9d42a56-e1ea-4085-b493-36ad62424e54",
   "metadata": {},
   "source": [
    "## 6. For Loop"
   ]
  },
  {
   "cell_type": "code",
   "execution_count": 7,
   "id": "9ff3a872-235b-4cb7-99f3-ccbc65b57ef5",
   "metadata": {},
   "outputs": [
    {
     "name": "stdout",
     "output_type": "stream",
     "text": [
      "Allen 5\n",
      "Lily 4\n",
      "Ashley 6\n",
      "Prasad 6\n"
     ]
    },
    {
     "name": "stdin",
     "output_type": "stream",
     "text": [
      "\n",
      "Enter a number:  5\n"
     ]
    },
    {
     "name": "stdout",
     "output_type": "stream",
     "text": [
      "1\n",
      "4\n",
      "9\n",
      "16\n",
      "25\n"
     ]
    }
   ],
   "source": [
    "# Print word from a list and its length\n",
    "names = ['Allen', 'Lily', 'Ashley', 'Prasad']\n",
    "for name in names:\n",
    "    print(name, len(name))\n",
    "\n",
    "# Print squares of number till n(n = user input)\n",
    "n = int(input(\"\\nEnter a number: \"))\n",
    "for i in range(1, n+1):\n",
    "    print(i ** 2)"
   ]
  },
  {
   "cell_type": "markdown",
   "id": "6e2b4069-d4d6-4b68-b00e-c0fe8d1b4c60",
   "metadata": {},
   "source": [
    "## 7. Match Case"
   ]
  },
  {
   "cell_type": "code",
   "execution_count": 8,
   "id": "53828712-13be-450f-927f-df3beb4de990",
   "metadata": {},
   "outputs": [
    {
     "name": "stdout",
     "output_type": "stream",
     "text": [
      "bad mood\n"
     ]
    }
   ],
   "source": [
    "mood = 0\n",
    "\"\"\"\n",
    "The _ case is like the default switch case used in C, C++, etc.\n",
    "\"\"\"\n",
    "match mood:\n",
    "    case 0:\n",
    "        print(\"bad mood\")\n",
    "    case 1:\n",
    "        print(\"good mood\")\n",
    "    case _:\n",
    "        print('confused?')"
   ]
  },
  {
   "cell_type": "markdown",
   "id": "d743deac-aac7-4a5a-8181-d1365e873a3e",
   "metadata": {},
   "source": [
    "## 8. Functions"
   ]
  },
  {
   "cell_type": "code",
   "execution_count": 10,
   "id": "494dd554-e20e-4ea3-95c6-69300507b4bb",
   "metadata": {},
   "outputs": [
    {
     "name": "stdout",
     "output_type": "stream",
     "text": [
      "18\n",
      "12\n",
      "45\n",
      "5.0\n"
     ]
    }
   ],
   "source": [
    "num1 = 15\n",
    "num2 = 3\n",
    "\n",
    "def addnum(n1, n2):\n",
    "    return n1 + n2\n",
    "\n",
    "def subnum(n1, n2):\n",
    "    return n1 - n2\n",
    "\n",
    "def divnum(n1, n2):\n",
    "    if n2 == 0:\n",
    "        raise ValueError('cannot divide by 0')\n",
    "    else:\n",
    "        return n1 / n2\n",
    "\n",
    "def mulnum(n1, n2):\n",
    "    return n1 * n2\n",
    "\n",
    "print(addnum(num1, num2))\n",
    "print(subnum(num1, num2))\n",
    "print(mulnum(num1, num2))\n",
    "print(divnum(num1, num2))"
   ]
  },
  {
   "cell_type": "markdown",
   "id": "9f584217-bdfc-45fe-b5f2-578a07221066",
   "metadata": {},
   "source": [
    "## 9. Tuples"
   ]
  },
  {
   "cell_type": "code",
   "execution_count": 11,
   "id": "4744832f-b245-4e1d-8b03-c639e70b564b",
   "metadata": {},
   "outputs": [
    {
     "name": "stdout",
     "output_type": "stream",
     "text": [
      "Peter\n",
      "23\n",
      "(('Peter', 23), ('Mark', 30))\n"
     ]
    }
   ],
   "source": [
    "# Simple tuple\n",
    "t = ('Peter', 23)\n",
    "for i in range(len(t)):\n",
    "    print(t[i])\n",
    "\n",
    "# Nested tuples\n",
    "u = t, ('Mark', 30)\n",
    "print(u)"
   ]
  },
  {
   "cell_type": "markdown",
   "id": "308faaf3-bd20-4506-8332-3d9225df7507",
   "metadata": {},
   "source": [
    "## 10. Sets"
   ]
  },
  {
   "cell_type": "code",
   "execution_count": 12,
   "id": "867b55d7-bcdc-4cd1-83ee-0c7fc80a24f3",
   "metadata": {},
   "outputs": [
    {
     "name": "stdout",
     "output_type": "stream",
     "text": [
      "\n",
      " {'e'}\n",
      "\n",
      " {'t', 'p', 'i', 'a', 'c', 'e', 'r', 'k'}\n",
      "\n",
      " {'p', 'r', 't'}\n",
      "\n",
      " {'e', 'i', 'k', 'a', 'c'}\n"
     ]
    }
   ],
   "source": [
    "# Simple sets\n",
    "a = set('peter')\n",
    "b = set('patrick')\n",
    "\n",
    "## Sets Operations\n",
    "\n",
    "# Letters in a but not in b\n",
    "print('\\n', a-b)\n",
    "\n",
    "# Letters in a or b or both\n",
    "print('\\n', a|b)\n",
    "\n",
    "# Letters in both a and b\n",
    "print('\\n', a&b)\n",
    "\n",
    "# Letters in a or b but not both\n",
    "print('\\n', a^b)"
   ]
  },
  {
   "cell_type": "markdown",
   "id": "1cf82fbb-c04c-450e-9581-dd5023d0f63e",
   "metadata": {},
   "source": [
    "## 11. Dictionaries"
   ]
  },
  {
   "cell_type": "code",
   "execution_count": 13,
   "id": "05d810e6-b6f3-4fe1-b3bf-169a24a2edb6",
   "metadata": {},
   "outputs": [
    {
     "name": "stdout",
     "output_type": "stream",
     "text": [
      "52991 Patrick\n",
      "52891 Lily\n",
      "56879 Alex\n",
      "\n",
      " [52991, 52891, 56879]\n",
      "{'Mercedes': 'Hamilton', 'RedBull': 'Max', 'Aston Martin': 'Vettel'}\n",
      "Mercedes Hamilton\n",
      "RedBull Max\n",
      "Aston Martin Vettel\n"
     ]
    }
   ],
   "source": [
    "\"\"\"\n",
    "Unlike sequences, which are indexed by a range of numbers, dictionaries\n",
    "are indexed by keys, which can be immutable type; strings and numbers can\n",
    "always be keys\n",
    "referenece:\n",
    "5.5 Dictionaries [https://docs.python.org/3/tutorial/datastructures.html#using-lists-as-queues]\n",
    "\"\"\"\n",
    "\n",
    "#simple dict\n",
    "employee = {52991: 'Patrick', 52891: 'Lily', 56879: 'Alex'}\n",
    "\n",
    "for empid in employee:\n",
    "    print(empid, employee[empid])\n",
    "\n",
    "# Performing list(d) on a dict returns a list of keys\n",
    "print('\\n', list(employee))\n",
    "\n",
    "# The dict() constructor\n",
    "f1= dict([('Mercedes','Hamilton'), ('RedBull','Max'), ('Aston Martin','Vettel')])\n",
    "print(f1)\n",
    "\n",
    "## Looping Techniques\n",
    "\n",
    "# Using items() method\n",
    "for k, v in f1.items():\n",
    "    print(k, v)"
   ]
  },
  {
   "cell_type": "markdown",
   "id": "d8ebd84b-1c7e-4510-85a0-92f83d2490e2",
   "metadata": {},
   "source": [
    "## 12. I/O"
   ]
  },
  {
   "cell_type": "code",
   "execution_count": 14,
   "id": "709d0156-f0a2-4378-ae13-f45dd5eb2ae1",
   "metadata": {},
   "outputs": [
    {
     "name": "stdout",
     "output_type": "stream",
     "text": [
      "My name is Anthony and I user Python for coding\n",
      "Anthony    Python    \n",
      " 42572654 YES votes  49.7%\n",
      "YES : 42572654 NO: 43132495\n",
      "Anthony Python\n",
      "'Anthony'\n",
      "43132495\n",
      "Percentage votes: 0.50\n"
     ]
    }
   ],
   "source": [
    "# f strings\n",
    "name = 'Anthony'\n",
    "prog_lang = 'Python'\n",
    "print(f'My name is {name} and I user {prog_lang} for coding')\n",
    "print(f'{name:10} {prog_lang:10}')\n",
    "\n",
    "# .format()\n",
    "yes_votes = 42_572_654\n",
    "no_votes = 43_132_495\n",
    "percentage = yes_votes / (yes_votes + no_votes)\n",
    "print('{:-9} YES votes  {:2.1%}'.format(yes_votes, percentage))\n",
    "print('YES : {0:5} NO: {1:5}'.format(yes_votes, no_votes))\n",
    "print('{0} {1}'.format(name, prog_lang))\n",
    "\n",
    "# When you dont need fancy output but just want a quick display\n",
    "# of some variables for debugging purposes, you can convert any\n",
    "# value to a string using a repr() or str() function\n",
    "print(repr(name))\n",
    "print(str(no_votes))\n",
    "\n",
    "# Old string formatting\n",
    "print('Percentage votes: %2.2f' %percentage)\n"
   ]
  },
  {
   "cell_type": "markdown",
   "id": "9c7673b3-6923-45c3-8615-6a443e7f0de0",
   "metadata": {},
   "source": [
    "## 13. Files"
   ]
  },
  {
   "cell_type": "code",
   "execution_count": 15,
   "id": "0e75df6f-0f29-4943-a8aa-beb764b5d15e",
   "metadata": {},
   "outputs": [
    {
     "name": "stdout",
     "output_type": "stream",
     "text": [
      "Hello\n",
      "\n",
      "Good Morning\n",
      "19\n",
      "[52991, 'Peter', 'Accounts']\n"
     ]
    }
   ],
   "source": [
    "# simple file\n",
    "f = open('SimpleFile' , 'w')\n",
    "\n",
    "\"\"\"\n",
    "File modes:\n",
    "w : writing\n",
    "r: reading\n",
    "a: appending\n",
    "r+: both reading and writing\n",
    "'b': binary mode\n",
    "\"\"\"\n",
    "\n",
    "# It is good practive to use the 'with' keyword when dealing with file objects.\n",
    "# The advantage is that the file is properly closed after its suite finishes, even\n",
    "# if an exception is raised at some point. Using 'with' is also much shorter than\n",
    "# writing equivalent try-finallly blocks\n",
    "with open('SimpleFile', \"w\") as f:\n",
    "    f.write('First Line\\n Second Line')\n",
    "\n",
    "\"\"\"\n",
    "WARNING: Calling f.write() without using the 'with' keyword or calling f.close()\n",
    "might result in the arguments of f.write() not being completely written to disk,\n",
    "even if program exits successfully\n",
    "\"\"\"\n",
    "\n",
    "# file.readline()\n",
    "g = open('Newfile', \"w\")\n",
    "g.write('Hello\\n')\n",
    "g.write('Good Morning')\n",
    "g.close()\n",
    "\n",
    "with open(\"Newfile\", \"r\") as g:\n",
    "    for line in g:\n",
    "        print(line)\n",
    "    print(g.tell())\n",
    "\n",
    "# saving structured data with json\n",
    "import json\n",
    "\"\"\"\n",
    "When you want to save complex data types like nested lists and dictionaries,\n",
    "parsing and serializing by hand becomes complicated. Python allows us to use\n",
    "JSON. The standard module json can take Python data hierarhchies, and convert\n",
    "them to string representations; this process is called serializing.\n",
    "Reconstructing the data from the string representation is called deserializing.\n",
    "\"\"\"\n",
    "\n",
    "info = [52991, 'Peter', 'Accounts']\n",
    "with open('SimpleFile', \"r+\") as f:\n",
    "    json.dump(info, f)\n",
    "\n",
    "with open('SimpleFile', \"r\") as f:\n",
    "    l = json.load(f)\n",
    "\n",
    "print(l)\n",
    "\n",
    "# Reference: Python Documentation\n"
   ]
  },
  {
   "cell_type": "markdown",
   "id": "b1863e1f-b732-4568-86bb-8ad376e3c216",
   "metadata": {},
   "source": [
    "## 14. Class"
   ]
  },
  {
   "cell_type": "code",
   "execution_count": 16,
   "id": "1e77e29c-825f-4243-b51c-78b30c4b56ec",
   "metadata": {},
   "outputs": [],
   "source": [
    "class ProfileGlobal():\n",
    "    def __init__(self, name, id_no):\n",
    "        self.name = name\n",
    "        self.id = id_no\n",
    "\n",
    "    def list_it(self):\n",
    "        empid_list = []\n",
    "        empid_list.append(self.id)\n",
    "        return empid_list\n",
    "\n",
    "    def dict_it(self):\n",
    "        emp_dict = {}\n",
    "        emp_dict={self.name: self.id}\n",
    "        return emp_dict\n",
    "\n",
    "employee = ProfileGlobal('Prasad', 312)"
   ]
  }
 ],
 "metadata": {
  "kernelspec": {
   "display_name": "Python 3 (ipykernel)",
   "language": "python",
   "name": "python3"
  },
  "language_info": {
   "codemirror_mode": {
    "name": "ipython",
    "version": 3
   },
   "file_extension": ".py",
   "mimetype": "text/x-python",
   "name": "python",
   "nbconvert_exporter": "python",
   "pygments_lexer": "ipython3",
   "version": "3.10.0"
  }
 },
 "nbformat": 4,
 "nbformat_minor": 5
}
