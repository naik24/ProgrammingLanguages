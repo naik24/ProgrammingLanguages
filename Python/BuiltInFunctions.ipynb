{
 "cells": [
  {
   "cell_type": "markdown",
   "id": "f3b2dda2",
   "metadata": {},
   "source": [
    "# Python BuiltIn Functions"
   ]
  },
  {
   "cell_type": "markdown",
   "id": "0a0ec973",
   "metadata": {},
   "source": [
    "### abs()"
   ]
  },
  {
   "cell_type": "code",
   "execution_count": 2,
   "id": "11842d08",
   "metadata": {},
   "outputs": [
    {
     "name": "stdout",
     "output_type": "stream",
     "text": [
      "Value of x:  -27\n",
      "Absolute value of x:  27\n"
     ]
    }
   ],
   "source": [
    "x = 23-50\n",
    "print(\"Value of x: \", x)\n",
    "print(\"Absolute value of x: \",abs(x))"
   ]
  },
  {
   "cell_type": "markdown",
   "id": "c11f4301",
   "metadata": {},
   "source": [
    "### all()"
   ]
  },
  {
   "cell_type": "code",
   "execution_count": 3,
   "id": "e8b007b0",
   "metadata": {},
   "outputs": [
    {
     "name": "stdout",
     "output_type": "stream",
     "text": [
      "all(x) False\n",
      "all(y) True\n"
     ]
    }
   ],
   "source": [
    "x = [0, 5, 20, 18, 33]\n",
    "y = [1, 8, 66, 56, 82]\n",
    "\n",
    "print(\"all(x)\", all(x))\n",
    "print(\"all(y)\", all(y))"
   ]
  },
  {
   "cell_type": "markdown",
   "id": "2010c183",
   "metadata": {},
   "source": [
    "### any()"
   ]
  },
  {
   "cell_type": "code",
   "execution_count": 4,
   "id": "603f5a7f",
   "metadata": {},
   "outputs": [
    {
     "name": "stdout",
     "output_type": "stream",
     "text": [
      "any(x) True\n",
      "any(y) True\n"
     ]
    }
   ],
   "source": [
    "x = [0, 5, 20, 18, 33]\n",
    "y = [1, 8, 66, 56, 82]\n",
    "\n",
    "print(\"any(x)\", any(x))\n",
    "print(\"any(y)\", any(y))"
   ]
  },
  {
   "cell_type": "markdown",
   "id": "8ed71ede",
   "metadata": {},
   "source": [
    "### bin()"
   ]
  },
  {
   "cell_type": "code",
   "execution_count": 12,
   "id": "b77e9833",
   "metadata": {},
   "outputs": [
    {
     "name": "stdout",
     "output_type": "stream",
     "text": [
      "['0b0', '0b1', '0b10', '0b11', '0b100', '0b101', '0b110', '0b111', '0b1000', '0b1001']\n"
     ]
    }
   ],
   "source": [
    "x = [bin(y) for y in range(10)]\n",
    "print(x)"
   ]
  },
  {
   "cell_type": "markdown",
   "id": "5fb3e578",
   "metadata": {},
   "source": [
    "### callable()"
   ]
  },
  {
   "cell_type": "code",
   "execution_count": 20,
   "id": "c9984d75",
   "metadata": {},
   "outputs": [
    {
     "name": "stdout",
     "output_type": "stream",
     "text": [
      "Is add callable:  True\n",
      "Is x callable:  False\n"
     ]
    }
   ],
   "source": [
    "def add(n1, n2):\n",
    "    return n1+n2\n",
    "\n",
    "x = 5\n",
    "\n",
    "print(\"Is add callable: \",callable(add))\n",
    "print(\"Is x callable: \", callable(x))"
   ]
  },
  {
   "cell_type": "markdown",
   "id": "217b39ea",
   "metadata": {},
   "source": [
    "### chr()"
   ]
  },
  {
   "cell_type": "code",
   "execution_count": 23,
   "id": "dcae1c7d",
   "metadata": {},
   "outputs": [
    {
     "name": "stdout",
     "output_type": "stream",
     "text": [
      "['a', 'b', 'c', 'd', 'e', 'f', 'g', 'h', 'i', 'j', 'k', 'l', 'm', 'n', 'o', 'p', 'q', 'r', 's', 't', 'u', 'v', 'w', 'x', 'y', 'z']\n"
     ]
    }
   ],
   "source": [
    "alpha = [chr(n) for n in range(97, 123)]\n",
    "print(alpha)"
   ]
  },
  {
   "cell_type": "code",
   "execution_count": null,
   "id": "bba7f7b1",
   "metadata": {},
   "outputs": [],
   "source": []
  }
 ],
 "metadata": {
  "kernelspec": {
   "display_name": "Python 3 (ipykernel)",
   "language": "python",
   "name": "python3"
  },
  "language_info": {
   "codemirror_mode": {
    "name": "ipython",
    "version": 3
   },
   "file_extension": ".py",
   "mimetype": "text/x-python",
   "name": "python",
   "nbconvert_exporter": "python",
   "pygments_lexer": "ipython3",
   "version": "3.10.0"
  }
 },
 "nbformat": 4,
 "nbformat_minor": 5
}
